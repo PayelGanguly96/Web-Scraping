{
 "cells": [
  {
   "cell_type": "code",
   "execution_count": 45,
   "metadata": {
    "collapsed": true
   },
   "outputs": [],
   "source": [
    "import requests\n",
    "r = requests.get('https://www.nytimes.com/2017/08/04/books/review/11-new-books-we-recommend-this-week.html?rref=collection%2Fsectioncollection%2Fbooks&action=click&contentCollection=books&region=stream&module=stream_unit&version=latest&contentPlacement=5&pgtype=sectionfront')  "
   ]
  },
  {
   "cell_type": "code",
   "execution_count": 46,
   "metadata": {
    "collapsed": false
   },
   "outputs": [
    {
     "name": "stdout",
     "output_type": "stream",
     "text": [
      "<!DOCTYPE html>\n",
      "<!--[if (gt IE 9)|!(IE)]> <!--> <html lang=\"en\" class=\"no-js section-review format-medium tone-feature app-article page-theme-standard has-top-ad type-size-small has-large-lede\" itemid=\"https://www.nytimes.com/2017/08/04/books/review/11-new-books-we-recommend-this-week.html\" itemtype=\"http://schema.org/NewsArticle\"  itemscope xmlns:og=\"http://opengraphprotocol.org/schema/\"> <!--<![endif]-->\n",
      "<!--[if IE 9]> <html lang=\"en\" class=\"no-js ie9 lt-ie10 section-review format-medium tone-\n"
     ]
    }
   ],
   "source": [
    "#to print the first 500 characters of the HTML\n",
    "print(r.text[0:500])  "
   ]
  },
  {
   "cell_type": "code",
   "execution_count": 47,
   "metadata": {
    "collapsed": true
   },
   "outputs": [],
   "source": [
    "from bs4 import BeautifulSoup  \n",
    "soup = BeautifulSoup(r.text, 'html.parser')  "
   ]
  },
  {
   "cell_type": "code",
   "execution_count": 48,
   "metadata": {
    "collapsed": false
   },
   "outputs": [
    {
     "data": {
      "text/plain": [
       "13"
      ]
     },
     "execution_count": 48,
     "metadata": {},
     "output_type": "execute_result"
    }
   ],
   "source": [
    "results = soup.find_all('p', attrs={'class':'story-body-text story-content'}) #to calculate no. of paragraphs in the article\n",
    "len(results)  "
   ]
  },
  {
   "cell_type": "code",
   "execution_count": 49,
   "metadata": {
    "collapsed": false
   },
   "outputs": [
    {
     "data": {
      "text/plain": [
       "[<p class=\"story-body-text story-content\" data-para-count=\"427\" data-total-count=\"1137\"><strong><a href=\"https://www.nytimes.com/2017/07/26/books/review-dying-memoir-cory-taylor.html\">DYING: A Memoir</a>,</strong><em> by Cory Taylor. (Tin House Books, $18.95.)</em> In her short, electrifying memoir, Taylor \\u2014 who died last year at age 61 \\u2014 grapples with cancer, regret and her determination to take control of her own death. Our critic Jennifer Senior wrote: \\u201c\\u2018Dying\\u2019 is bracing and beautiful, possessed of an extraordinary intellectual and moral rigor. Every medical student should read it. Every human should read it.\\u201d</p>,\n",
       " <p class=\"story-body-text story-content\" data-para-count=\"637\" data-total-count=\"1774\"><strong><a href=\"https://www.nytimes.com/2017/07/24/books/review-ayobami-adebayo-stay-with-me.html\">STAY WITH ME</a>,</strong> <em>by </em><em>Ayobami Adebayo. (Alfred A. Knopf. $25.95.)</em> This debut novel is a portrait of a marriage in Nigeria beginning in the politically tumultous 1980s. Through her two narrators, Yejide (the wife) and Akin (the husband), Adebayo explores the tensions between the personal and political, between tradition and modernity, and community and individual identity. Michiko Kakutani, in her last review before stepping down as chief book critic, wrote: \\u201cAdebayo, who is 29, is an exceptional storyteller. She writes not just with extraordinary grace but with genuine wisdom about love and loss and the possibility of redemption.\\u201d</p>,\n",
       " <p class=\"story-body-text story-content\" data-para-count=\"293\" data-total-count=\"2067\"><a href=\"https://www.nytimes.com/2017/07/26/books/review/called-to-rise-david-brown-policing-the-black-man-paul-butler.html\"><strong>CHOKEHOLD:</strong> </a><strong><a href=\"https://www.nytimes.com/2017/07/26/books/review/called-to-rise-david-brown-policing-the-black-man-paul-butler.html\">Policing Black Men</a>,</strong> <em>by Paul Butler. (New Press, $26.95.)</em> A law professor and former federal prosecutor argues in this provocative book that releasing prisoners who are not dangerous would free up resources to combat the segregated poverty that underlies our criminal justice system.</p>]"
      ]
     },
     "execution_count": 49,
     "metadata": {},
     "output_type": "execute_result"
    }
   ],
   "source": [
    "results[2:5]  # to examine the 3rd to 5th paragraphs"
   ]
  },
  {
   "cell_type": "code",
   "execution_count": 50,
   "metadata": {
    "collapsed": false
   },
   "outputs": [
    {
     "data": {
      "text/plain": [
       "<p class=\"story-body-text story-content\" data-para-count=\"310\" data-total-count=\"5193\"><strong><a href=\"https://www.nytimes.com/2017/07/26/books/review/crime-writer-jill-dawson.html\">THE CRIME WRITER</a>,</strong> <em>by Jill Dawson. (Harper Perennial</em><em>,</em><em> paper, $15.99.)</em> Dawson\\u2019s novel uses the life of the writer and celebrated misanthrope Patricia Highsmith to probe the territory between reality and fantasy that so fascinated her. Told in both the first- and the third-person, it is full of postmodern fun.</p>"
      ]
     },
     "execution_count": 50,
     "metadata": {},
     "output_type": "execute_result"
    }
   ],
   "source": [
    "results[-1] #to examine the last paragraph"
   ]
  },
  {
   "cell_type": "code",
   "execution_count": 51,
   "metadata": {
    "collapsed": false
   },
   "outputs": [
    {
     "data": {
      "text/plain": [
       "<p class=\"story-body-text story-content\" data-para-count=\"427\" data-total-count=\"1137\"><strong><a href=\"https://www.nytimes.com/2017/07/26/books/review-dying-memoir-cory-taylor.html\">DYING: A Memoir</a>,</strong><em> by Cory Taylor. (Tin House Books, $18.95.)</em> In her short, electrifying memoir, Taylor \\u2014 who died last year at age 61 \\u2014 grapples with cancer, regret and her determination to take control of her own death. Our critic Jennifer Senior wrote: \\u201c\\u2018Dying\\u2019 is bracing and beautiful, possessed of an extraordinary intellectual and moral rigor. Every medical student should read it. Every human should read it.\\u201d</p>"
      ]
     },
     "execution_count": 51,
     "metadata": {},
     "output_type": "execute_result"
    }
   ],
   "source": [
    "second_para = results[2]  \n",
    "second_para "
   ]
  },
  {
   "cell_type": "code",
   "execution_count": 52,
   "metadata": {
    "collapsed": false
   },
   "outputs": [
    {
     "data": {
      "text/plain": [
       "<strong><a href=\"https://www.nytimes.com/2017/07/26/books/review-dying-memoir-cory-taylor.html\">DYING: A Memoir</a>,</strong>"
      ]
     },
     "execution_count": 52,
     "metadata": {},
     "output_type": "execute_result"
    }
   ],
   "source": [
    "second_para.find('strong')"
   ]
  },
  {
   "cell_type": "code",
   "execution_count": 53,
   "metadata": {
    "collapsed": false
   },
   "outputs": [
    {
     "data": {
      "text/plain": [
       "<a href=\"https://www.nytimes.com/2017/07/26/books/review-dying-memoir-cory-taylor.html\">DYING: A Memoir</a>"
      ]
     },
     "execution_count": 53,
     "metadata": {},
     "output_type": "execute_result"
    }
   ],
   "source": [
    "second_para.find('a')"
   ]
  },
  {
   "cell_type": "code",
   "execution_count": 54,
   "metadata": {
    "collapsed": false
   },
   "outputs": [
    {
     "data": {
      "text/plain": [
       "u'https://www.nytimes.com/2017/07/26/books/review-dying-memoir-cory-taylor.html'"
      ]
     },
     "execution_count": 54,
     "metadata": {},
     "output_type": "execute_result"
    }
   ],
   "source": [
    "second_para.find('a')['href']"
   ]
  },
  {
   "cell_type": "code",
   "execution_count": 55,
   "metadata": {
    "collapsed": false
   },
   "outputs": [
    {
     "data": {
      "text/plain": [
       "u'DYING: A Memoir,'"
      ]
     },
     "execution_count": 55,
     "metadata": {},
     "output_type": "execute_result"
    }
   ],
   "source": [
    "second_para.find('strong').text"
   ]
  },
  {
   "cell_type": "code",
   "execution_count": 56,
   "metadata": {
    "collapsed": false
   },
   "outputs": [
    {
     "data": {
      "text/plain": [
       "u'NG: A Memoir,'"
      ]
     },
     "execution_count": 56,
     "metadata": {},
     "output_type": "execute_result"
    }
   ],
   "source": [
    "second_para.find('strong').text[3:]"
   ]
  },
  {
   "cell_type": "code",
   "execution_count": 57,
   "metadata": {
    "collapsed": false
   },
   "outputs": [
    {
     "data": {
      "text/plain": [
       "u'DYING: A Memoir,- A very good book'"
      ]
     },
     "execution_count": 57,
     "metadata": {},
     "output_type": "execute_result"
    }
   ],
   "source": [
    "second_para.find('strong').text + '- A very good book'"
   ]
  },
  {
   "cell_type": "code",
   "execution_count": 58,
   "metadata": {
    "collapsed": false
   },
   "outputs": [
    {
     "data": {
      "text/plain": [
       "[<strong><a href=\"https://www.nytimes.com/2017/07/26/books/review-dying-memoir-cory-taylor.html\">DYING: A Memoir</a>,</strong>,\n",
       " <em> by Cory Taylor. (Tin House Books, $18.95.)</em>,\n",
       " u' In her short, electrifying memoir, Taylor \\u2014 who died last year at age 61 \\u2014 grapples with cancer, regret and her determination to take control of her own death. Our critic Jennifer Senior wrote: \\u201c\\u2018Dying\\u2019 is bracing and beautiful, possessed of an extraordinary intellectual and moral rigor. Every medical student should read it. Every human should read it.\\u201d']"
      ]
     },
     "execution_count": 58,
     "metadata": {},
     "output_type": "execute_result"
    }
   ],
   "source": [
    "second_para.contents #this attribute returns a Python list containing its \"children\"(Tags and strings that are nested within a Tag.)"
   ]
  },
  {
   "cell_type": "code",
   "execution_count": 59,
   "metadata": {
    "collapsed": false
   },
   "outputs": [
    {
     "data": {
      "text/plain": [
       "<em> by Cory Taylor. (Tin House Books, $18.95.)</em>"
      ]
     },
     "execution_count": 59,
     "metadata": {},
     "output_type": "execute_result"
    }
   ],
   "source": [
    "second_para.contents[1]  "
   ]
  },
  {
   "cell_type": "code",
   "execution_count": 60,
   "metadata": {
    "collapsed": false
   },
   "outputs": [
    {
     "data": {
      "text/plain": [
       "u'DYING: A Memoir'"
      ]
     },
     "execution_count": 60,
     "metadata": {},
     "output_type": "execute_result"
    }
   ],
   "source": [
    "second_para.find('a').text"
   ]
  },
  {
   "cell_type": "code",
   "execution_count": 64,
   "metadata": {
    "collapsed": true
   },
   "outputs": [],
   "source": [
    "# web scraping of another article"
   ]
  },
  {
   "cell_type": "code",
   "execution_count": 65,
   "metadata": {
    "collapsed": true
   },
   "outputs": [],
   "source": [
    "fout = requests.get('https://www.nytimes.com/interactive/2017/06/23/opinion/trumps-lies.html')  \n",
    "soup = BeautifulSoup(fout.text, 'html.parser')  "
   ]
  },
  {
   "cell_type": "code",
   "execution_count": 66,
   "metadata": {
    "collapsed": false
   },
   "outputs": [
    {
     "data": {
      "text/plain": [
       "116"
      ]
     },
     "execution_count": 66,
     "metadata": {},
     "output_type": "execute_result"
    }
   ],
   "source": [
    "rslt = soup.find_all('span', attrs={'class':'short-desc'}) \n",
    "len(rslt)  "
   ]
  },
  {
   "cell_type": "code",
   "execution_count": 67,
   "metadata": {
    "collapsed": true
   },
   "outputs": [],
   "source": [
    "records = []  \n",
    "for i in rslt:  \n",
    "    date = i.find('strong').text[0:-1] + ', 2017'\n",
    "    lie = i.contents[1][1:-2]\n",
    "    explanation = i.find('a').text[1:-1]\n",
    "    url = i.find('a')['href']\n",
    "    records.append((date, lie, explanation, url))"
   ]
  },
  {
   "cell_type": "code",
   "execution_count": 68,
   "metadata": {
    "collapsed": false
   },
   "outputs": [
    {
     "data": {
      "text/plain": [
       "[(u'Jan. 23, 2017',\n",
       "  u'Between 3 million and 5 million illegal votes caused me to lose the popular vote.',\n",
       "  u\"There's no evidence of illegal voting.\",\n",
       "  u'https://www.nytimes.com/2017/01/23/us/politics/donald-trump-congress-democrats.html'),\n",
       " (u'Jan. 25, 2017',\n",
       "  u'Now, the audience was the biggest ever. But this crowd was massive. Look how far back it goes. This crowd was massive.',\n",
       "  u\"Official aerial photos show Obama's 2009 inauguration was much more heavily attended.\",\n",
       "  u'https://www.nytimes.com/2017/01/21/us/politics/trump-white-house-briefing-inauguration-crowd-size.html'),\n",
       " (u'Jan. 25, 2017',\n",
       "  u'Take a look at the Pew reports (which show voter fraud.)',\n",
       "  u'The report never mentioned voter fraud.',\n",
       "  u'https://www.nytimes.com/2017/01/24/us/politics/unauthorized-immigrant-voting-trump-lie.html')]"
      ]
     },
     "execution_count": 68,
     "metadata": {},
     "output_type": "execute_result"
    }
   ],
   "source": [
    "records[2:5]  "
   ]
  },
  {
   "cell_type": "code",
   "execution_count": 71,
   "metadata": {
    "collapsed": false
   },
   "outputs": [
    {
     "data": {
      "text/html": [
       "<div>\n",
       "<table border=\"1\" class=\"dataframe\">\n",
       "  <thead>\n",
       "    <tr style=\"text-align: right;\">\n",
       "      <th></th>\n",
       "      <th>Date</th>\n",
       "      <th>Lie</th>\n",
       "      <th>Explanation</th>\n",
       "      <th>URL</th>\n",
       "    </tr>\n",
       "  </thead>\n",
       "  <tbody>\n",
       "    <tr>\n",
       "      <th>0</th>\n",
       "      <td>Jan. 21, 2017</td>\n",
       "      <td>I wasn't a fan of Iraq. I didn't want to go in...</td>\n",
       "      <td>He was for an invasion before he was against it.</td>\n",
       "      <td>https://www.buzzfeed.com/andrewkaczynski/in-20...</td>\n",
       "    </tr>\n",
       "    <tr>\n",
       "      <th>1</th>\n",
       "      <td>Jan. 21, 2017</td>\n",
       "      <td>A reporter for Time magazine — and I have been...</td>\n",
       "      <td>Trump was on the cover 11 times and Nixon appe...</td>\n",
       "      <td>http://nation.time.com/2013/11/06/10-things-yo...</td>\n",
       "    </tr>\n",
       "    <tr>\n",
       "      <th>2</th>\n",
       "      <td>Jan. 23, 2017</td>\n",
       "      <td>Between 3 million and 5 million illegal votes ...</td>\n",
       "      <td>There's no evidence of illegal voting.</td>\n",
       "      <td>https://www.nytimes.com/2017/01/23/us/politics...</td>\n",
       "    </tr>\n",
       "    <tr>\n",
       "      <th>3</th>\n",
       "      <td>Jan. 25, 2017</td>\n",
       "      <td>Now, the audience was the biggest ever. But th...</td>\n",
       "      <td>Official aerial photos show Obama's 2009 inaug...</td>\n",
       "      <td>https://www.nytimes.com/2017/01/21/us/politics...</td>\n",
       "    </tr>\n",
       "    <tr>\n",
       "      <th>4</th>\n",
       "      <td>Jan. 25, 2017</td>\n",
       "      <td>Take a look at the Pew reports (which show vot...</td>\n",
       "      <td>The report never mentioned voter fraud.</td>\n",
       "      <td>https://www.nytimes.com/2017/01/24/us/politics...</td>\n",
       "    </tr>\n",
       "  </tbody>\n",
       "</table>\n",
       "</div>"
      ],
      "text/plain": [
       "            Date                                                Lie  \\\n",
       "0  Jan. 21, 2017  I wasn't a fan of Iraq. I didn't want to go in...   \n",
       "1  Jan. 21, 2017  A reporter for Time magazine — and I have been...   \n",
       "2  Jan. 23, 2017  Between 3 million and 5 million illegal votes ...   \n",
       "3  Jan. 25, 2017  Now, the audience was the biggest ever. But th...   \n",
       "4  Jan. 25, 2017  Take a look at the Pew reports (which show vot...   \n",
       "\n",
       "                                         Explanation  \\\n",
       "0   He was for an invasion before he was against it.   \n",
       "1  Trump was on the cover 11 times and Nixon appe...   \n",
       "2             There's no evidence of illegal voting.   \n",
       "3  Official aerial photos show Obama's 2009 inaug...   \n",
       "4            The report never mentioned voter fraud.   \n",
       "\n",
       "                                                 URL  \n",
       "0  https://www.buzzfeed.com/andrewkaczynski/in-20...  \n",
       "1  http://nation.time.com/2013/11/06/10-things-yo...  \n",
       "2  https://www.nytimes.com/2017/01/23/us/politics...  \n",
       "3  https://www.nytimes.com/2017/01/21/us/politics...  \n",
       "4  https://www.nytimes.com/2017/01/24/us/politics...  "
      ]
     },
     "execution_count": 71,
     "metadata": {},
     "output_type": "execute_result"
    }
   ],
   "source": [
    "#to convert existing data (which is in list of tuples) into tabular structure\n",
    "import pandas as pd  \n",
    "df = pd.DataFrame(records, columns=['Date', 'Lie', 'Explanation', 'URL']) #Dataframe is suitable for tabular form and columns\n",
    "df.head()  #head() method, which allows you to examine the top of the DataFrame"
   ]
  },
  {
   "cell_type": "code",
   "execution_count": 72,
   "metadata": {
    "collapsed": false
   },
   "outputs": [
    {
     "data": {
      "text/html": [
       "<div>\n",
       "<table border=\"1\" class=\"dataframe\">\n",
       "  <thead>\n",
       "    <tr style=\"text-align: right;\">\n",
       "      <th></th>\n",
       "      <th>Date</th>\n",
       "      <th>Lie</th>\n",
       "      <th>Explanation</th>\n",
       "      <th>URL</th>\n",
       "    </tr>\n",
       "  </thead>\n",
       "  <tbody>\n",
       "    <tr>\n",
       "      <th>111</th>\n",
       "      <td>July 6, 2017</td>\n",
       "      <td>As a result of this insistence, billions of do...</td>\n",
       "      <td>NATO countries agreed to meet defense spending...</td>\n",
       "      <td>http://www.nbcnews.com/politics/donald-trump/f...</td>\n",
       "    </tr>\n",
       "    <tr>\n",
       "      <th>112</th>\n",
       "      <td>July 17, 2017</td>\n",
       "      <td>We’ve signed more bills — and I’m talking abou...</td>\n",
       "      <td>Clinton, Carter, Truman, and F.D.R. had signed...</td>\n",
       "      <td>https://www.nytimes.com/2017/07/17/us/politics...</td>\n",
       "    </tr>\n",
       "    <tr>\n",
       "      <th>113</th>\n",
       "      <td>July 19, 2017</td>\n",
       "      <td>Um, the Russian investigation — it’s not an in...</td>\n",
       "      <td>It is.</td>\n",
       "      <td>http://time.com/4823514/donald-trump-investiga...</td>\n",
       "    </tr>\n",
       "    <tr>\n",
       "      <th>114</th>\n",
       "      <td>July 19, 2017</td>\n",
       "      <td>I heard that Harry Truman was first, and then ...</td>\n",
       "      <td>Presidents Clinton, Carter, Truman, and F.D.R....</td>\n",
       "      <td>https://www.nytimes.com/2017/07/17/us/politics...</td>\n",
       "    </tr>\n",
       "    <tr>\n",
       "      <th>115</th>\n",
       "      <td>July 19, 2017</td>\n",
       "      <td>But the F.B.I. person really reports directly ...</td>\n",
       "      <td>He reports directly to the attorney general.</td>\n",
       "      <td>https://www.usatoday.com/story/news/politics/o...</td>\n",
       "    </tr>\n",
       "  </tbody>\n",
       "</table>\n",
       "</div>"
      ],
      "text/plain": [
       "              Date                                                Lie  \\\n",
       "111   July 6, 2017  As a result of this insistence, billions of do...   \n",
       "112  July 17, 2017  We’ve signed more bills — and I’m talking abou...   \n",
       "113  July 19, 2017  Um, the Russian investigation — it’s not an in...   \n",
       "114  July 19, 2017  I heard that Harry Truman was first, and then ...   \n",
       "115  July 19, 2017  But the F.B.I. person really reports directly ...   \n",
       "\n",
       "                                           Explanation  \\\n",
       "111  NATO countries agreed to meet defense spending...   \n",
       "112  Clinton, Carter, Truman, and F.D.R. had signed...   \n",
       "113                                             It is.   \n",
       "114  Presidents Clinton, Carter, Truman, and F.D.R....   \n",
       "115       He reports directly to the attorney general.   \n",
       "\n",
       "                                                   URL  \n",
       "111  http://www.nbcnews.com/politics/donald-trump/f...  \n",
       "112  https://www.nytimes.com/2017/07/17/us/politics...  \n",
       "113  http://time.com/4823514/donald-trump-investiga...  \n",
       "114  https://www.nytimes.com/2017/07/17/us/politics...  \n",
       "115  https://www.usatoday.com/story/news/politics/o...  "
      ]
     },
     "execution_count": 72,
     "metadata": {},
     "output_type": "execute_result"
    }
   ],
   "source": [
    "df.tail() #the index on the left side of the table is automatically assigned as the integers 0 to 115."
   ]
  },
  {
   "cell_type": "code",
   "execution_count": 74,
   "metadata": {
    "collapsed": false
   },
   "outputs": [
    {
     "data": {
      "text/html": [
       "<div>\n",
       "<table border=\"1\" class=\"dataframe\">\n",
       "  <thead>\n",
       "    <tr style=\"text-align: right;\">\n",
       "      <th></th>\n",
       "      <th>Date</th>\n",
       "      <th>Lie</th>\n",
       "      <th>Explanation</th>\n",
       "      <th>URL</th>\n",
       "    </tr>\n",
       "  </thead>\n",
       "  <tbody>\n",
       "    <tr>\n",
       "      <th>0</th>\n",
       "      <td>2017-01-21</td>\n",
       "      <td>I wasn't a fan of Iraq. I didn't want to go in...</td>\n",
       "      <td>He was for an invasion before he was against it.</td>\n",
       "      <td>https://www.buzzfeed.com/andrewkaczynski/in-20...</td>\n",
       "    </tr>\n",
       "    <tr>\n",
       "      <th>1</th>\n",
       "      <td>2017-01-21</td>\n",
       "      <td>A reporter for Time magazine — and I have been...</td>\n",
       "      <td>Trump was on the cover 11 times and Nixon appe...</td>\n",
       "      <td>http://nation.time.com/2013/11/06/10-things-yo...</td>\n",
       "    </tr>\n",
       "    <tr>\n",
       "      <th>2</th>\n",
       "      <td>2017-01-23</td>\n",
       "      <td>Between 3 million and 5 million illegal votes ...</td>\n",
       "      <td>There's no evidence of illegal voting.</td>\n",
       "      <td>https://www.nytimes.com/2017/01/23/us/politics...</td>\n",
       "    </tr>\n",
       "    <tr>\n",
       "      <th>3</th>\n",
       "      <td>2017-01-25</td>\n",
       "      <td>Now, the audience was the biggest ever. But th...</td>\n",
       "      <td>Official aerial photos show Obama's 2009 inaug...</td>\n",
       "      <td>https://www.nytimes.com/2017/01/21/us/politics...</td>\n",
       "    </tr>\n",
       "    <tr>\n",
       "      <th>4</th>\n",
       "      <td>2017-01-25</td>\n",
       "      <td>Take a look at the Pew reports (which show vot...</td>\n",
       "      <td>The report never mentioned voter fraud.</td>\n",
       "      <td>https://www.nytimes.com/2017/01/24/us/politics...</td>\n",
       "    </tr>\n",
       "  </tbody>\n",
       "</table>\n",
       "</div>"
      ],
      "text/plain": [
       "        Date                                                Lie  \\\n",
       "0 2017-01-21  I wasn't a fan of Iraq. I didn't want to go in...   \n",
       "1 2017-01-21  A reporter for Time magazine — and I have been...   \n",
       "2 2017-01-23  Between 3 million and 5 million illegal votes ...   \n",
       "3 2017-01-25  Now, the audience was the biggest ever. But th...   \n",
       "4 2017-01-25  Take a look at the Pew reports (which show vot...   \n",
       "\n",
       "                                         Explanation  \\\n",
       "0   He was for an invasion before he was against it.   \n",
       "1  Trump was on the cover 11 times and Nixon appe...   \n",
       "2             There's no evidence of illegal voting.   \n",
       "3  Official aerial photos show Obama's 2009 inaug...   \n",
       "4            The report never mentioned voter fraud.   \n",
       "\n",
       "                                                 URL  \n",
       "0  https://www.buzzfeed.com/andrewkaczynski/in-20...  \n",
       "1  http://nation.time.com/2013/11/06/10-things-yo...  \n",
       "2  https://www.nytimes.com/2017/01/23/us/politics...  \n",
       "3  https://www.nytimes.com/2017/01/21/us/politics...  \n",
       "4  https://www.nytimes.com/2017/01/24/us/politics...  "
      ]
     },
     "execution_count": 74,
     "metadata": {},
     "output_type": "execute_result"
    }
   ],
   "source": [
    "df['Date'] = pd.to_datetime(df['Date']) #to convert date format into datetime (YYYY-MM-DD) format\n",
    "df.head()"
   ]
  },
  {
   "cell_type": "code",
   "execution_count": 76,
   "metadata": {
    "collapsed": false
   },
   "outputs": [],
   "source": [
    "df.to_csv('NYTimesscraping.csv', index=False, encoding='utf-8')  #index=False so as to tell that there is no need of index values while converting to csv file"
   ]
  },
  {
   "cell_type": "code",
   "execution_count": null,
   "metadata": {
    "collapsed": true
   },
   "outputs": [],
   "source": []
  }
 ],
 "metadata": {
  "kernelspec": {
   "display_name": "Python [conda root]",
   "language": "python",
   "name": "conda-root-py"
  },
  "language_info": {
   "codemirror_mode": {
    "name": "ipython",
    "version": 2
   },
   "file_extension": ".py",
   "mimetype": "text/x-python",
   "name": "python",
   "nbconvert_exporter": "python",
   "pygments_lexer": "ipython2",
   "version": "2.7.12"
  }
 },
 "nbformat": 4,
 "nbformat_minor": 1
}
