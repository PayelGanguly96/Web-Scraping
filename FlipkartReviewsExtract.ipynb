{
 "cells": [
  {
   "cell_type": "code",
   "execution_count": 3,
   "metadata": {
    "collapsed": false
   },
   "outputs": [],
   "source": [
    "#to extract user reviews of Lenovo mobile phones from Flipkart\n",
    "import requests\n",
    "import sys\n",
    "from bs4 import BeautifulSoup\n",
    "import time"
   ]
  },
  {
   "cell_type": "code",
   "execution_count": 6,
   "metadata": {
    "collapsed": false
   },
   "outputs": [
    {
     "data": {
      "text/plain": [
       "10"
      ]
     },
     "execution_count": 6,
     "metadata": {},
     "output_type": "execute_result"
    }
   ],
   "source": [
    "fout = requests.get('https://www.flipkart.com/lenovo-vibe-k5-plus-3-gb-dark-grey-16-gb/p/itmeuyd9pxxg684g?pid=MOBEKEF86VVUE8G2&srno=b_1_1&otracker=browse&lid=LSTMOBEKEF86VVUE8G2YCW5OP&fm=organic&iid=166a05ff-39aa-417e-b8b6-aee4d1da95dc.MOBEKEF86VVUE8G2.SEARCH')  \n",
    "soup = BeautifulSoup(fout.text, 'html.parser')  \n",
    "rslt = soup.find_all('div', attrs={'class':'col _390CkK'}) \n",
    "len(rslt)  "
   ]
  },
  {
   "cell_type": "code",
   "execution_count": 71,
   "metadata": {
    "collapsed": false
   },
   "outputs": [
    {
     "data": {
      "text/plain": [
       "[(u'5 \\u2605LENOVO VIBE K5 PLUS IS A EXCELLENT PHONE.',\n",
       "  u'LENOVO VIBE K5 PLUS IS AN EXCELLENT PHONE.FAST & SMOOTH WORKING/ PROCESSING.BATTERY POWER SHOULD BE INCREASE. BUT AT THIS PRICE THIS PHONE IS SUPER.VERY FAST DELIVERY BY FLIP-KART.I am using this phone from last 15 days. Excellent phone.READ MORE',\n",
       "  u'ANAND RAJ',\n",
       "  u'/reviews/27552305-0262-4a29-af5d-443f7be1f394'),\n",
       " (u'4 \\u2605Wonderful',\n",
       "  u'Good phoneFor the first time using this phone there was a mild heating issue for 10 min which usual in all brands and now there is no heating issue.Good rear camera Overall good performance....READ MORE',\n",
       "  u'Flipkart Customer',\n",
       "  u'/reviews/9d3f69c7-f80f-44ff-a7fa-04dd25645de3'),\n",
       " (u'5 \\u2605Mind-blowing purchase',\n",
       "  u\"It is a brilliant phone for the price. 3 GB memory handles most of the tasks thrown at it. It can handle most games like Asphalt etc.The audio output is good, but Dolby Atmos, when activated, just adds another dimension to the output through headsets. There are no headsets in the package, so it would be good to invest in a good headset like Senheiser or SkullCandy if you really are passionate about music. (You can buy a Bose, but why you'd buy this phone if you could afford a Bose is beyond...READ MORE\",\n",
       "  u'Navin Quadros',\n",
       "  u'/reviews/0176f6e0-23be-4100-9d7f-f9629bf93406'),\n",
       " (u'5 \\u2605Super!',\n",
       "  u'Good SmartphoneREAD MORE',\n",
       "  u'Naseem Ahmad',\n",
       "  u'/reviews/1a16cc52-045c-468f-8c38-753733409ddd'),\n",
       " (u'5 \\u2605LENOVO VIBE K5 PLUS 3GB',\n",
       "  u'DELIVERY, TRACKING UPDATE, EXCELLENT AS COMMITTED.READ MORE',\n",
       "  u'K V RAMA RAO',\n",
       "  u'/reviews/809342cd-fcad-43af-a6c8-daf1e4fb0577'),\n",
       " (u'4 \\u2605Worth a Buy !!!',\n",
       "  u'Dolby Sound is Amazing.....READ MORE',\n",
       "  u'Neha Mane',\n",
       "  u'/reviews/3c4fc6d7-3533-4ed5-af3b-8bf05fce0e3f'),\n",
       " (u'1 \\u2605Waste of money!',\n",
       "  u\"Don't buy any mobile from Flipkart. They unable to replace defective product.READ MORE\",\n",
       "  u'Jaminul Islam',\n",
       "  u'/reviews/a336323f-e217-4fd8-9690-3509666e0424')]"
      ]
     },
     "execution_count": 71,
     "metadata": {},
     "output_type": "execute_result"
    }
   ],
   "source": [
    "records = [] \n",
    "for i in rslt:  \n",
    "    title = i.find('div').text[0:] \n",
    "    rev = i.find('div', attrs={'class': 'qwjRop'}).text[0:]\n",
    "    name = i.find('p', attrs={'class' :'_3LYOAd'}).text[0:]\n",
    "    link = i.find('a')['href']\n",
    "    records.append((title,rev,name, link))\n",
    "    \n",
    "records[0:7]    "
   ]
  },
  {
   "cell_type": "code",
   "execution_count": 72,
   "metadata": {
    "collapsed": false
   },
   "outputs": [
    {
     "data": {
      "text/html": [
       "<div>\n",
       "<table border=\"1\" class=\"dataframe\">\n",
       "  <thead>\n",
       "    <tr style=\"text-align: right;\">\n",
       "      <th></th>\n",
       "      <th>Stars &amp; Title</th>\n",
       "      <th>Reviews</th>\n",
       "      <th>Name</th>\n",
       "      <th>Link</th>\n",
       "    </tr>\n",
       "  </thead>\n",
       "  <tbody>\n",
       "    <tr>\n",
       "      <th>0</th>\n",
       "      <td>5 ★LENOVO VIBE K5 PLUS IS A EXCELLENT PHONE.</td>\n",
       "      <td>LENOVO VIBE K5 PLUS IS AN EXCELLENT PHONE.FAST...</td>\n",
       "      <td>ANAND RAJ</td>\n",
       "      <td>/reviews/27552305-0262-4a29-af5d-443f7be1f394</td>\n",
       "    </tr>\n",
       "    <tr>\n",
       "      <th>1</th>\n",
       "      <td>4 ★Wonderful</td>\n",
       "      <td>Good phoneFor the first time using this phone ...</td>\n",
       "      <td>Flipkart Customer</td>\n",
       "      <td>/reviews/9d3f69c7-f80f-44ff-a7fa-04dd25645de3</td>\n",
       "    </tr>\n",
       "    <tr>\n",
       "      <th>2</th>\n",
       "      <td>5 ★Mind-blowing purchase</td>\n",
       "      <td>It is a brilliant phone for the price. 3 GB me...</td>\n",
       "      <td>Navin Quadros</td>\n",
       "      <td>/reviews/0176f6e0-23be-4100-9d7f-f9629bf93406</td>\n",
       "    </tr>\n",
       "    <tr>\n",
       "      <th>3</th>\n",
       "      <td>5 ★Super!</td>\n",
       "      <td>Good SmartphoneREAD MORE</td>\n",
       "      <td>Naseem Ahmad</td>\n",
       "      <td>/reviews/1a16cc52-045c-468f-8c38-753733409ddd</td>\n",
       "    </tr>\n",
       "    <tr>\n",
       "      <th>4</th>\n",
       "      <td>5 ★LENOVO VIBE K5 PLUS 3GB</td>\n",
       "      <td>DELIVERY, TRACKING UPDATE, EXCELLENT AS COMMIT...</td>\n",
       "      <td>K V RAMA RAO</td>\n",
       "      <td>/reviews/809342cd-fcad-43af-a6c8-daf1e4fb0577</td>\n",
       "    </tr>\n",
       "  </tbody>\n",
       "</table>\n",
       "</div>"
      ],
      "text/plain": [
       "                                  Stars & Title  \\\n",
       "0  5 ★LENOVO VIBE K5 PLUS IS A EXCELLENT PHONE.   \n",
       "1                                  4 ★Wonderful   \n",
       "2                      5 ★Mind-blowing purchase   \n",
       "3                                     5 ★Super!   \n",
       "4                    5 ★LENOVO VIBE K5 PLUS 3GB   \n",
       "\n",
       "                                             Reviews               Name  \\\n",
       "0  LENOVO VIBE K5 PLUS IS AN EXCELLENT PHONE.FAST...          ANAND RAJ   \n",
       "1  Good phoneFor the first time using this phone ...  Flipkart Customer   \n",
       "2  It is a brilliant phone for the price. 3 GB me...      Navin Quadros   \n",
       "3                           Good SmartphoneREAD MORE       Naseem Ahmad   \n",
       "4  DELIVERY, TRACKING UPDATE, EXCELLENT AS COMMIT...       K V RAMA RAO   \n",
       "\n",
       "                                            Link  \n",
       "0  /reviews/27552305-0262-4a29-af5d-443f7be1f394  \n",
       "1  /reviews/9d3f69c7-f80f-44ff-a7fa-04dd25645de3  \n",
       "2  /reviews/0176f6e0-23be-4100-9d7f-f9629bf93406  \n",
       "3  /reviews/1a16cc52-045c-468f-8c38-753733409ddd  \n",
       "4  /reviews/809342cd-fcad-43af-a6c8-daf1e4fb0577  "
      ]
     },
     "execution_count": 72,
     "metadata": {},
     "output_type": "execute_result"
    }
   ],
   "source": [
    "import pandas as pd  \n",
    "df = pd.DataFrame(records, columns=['Stars & Title','Reviews', 'Name', 'Link']) #Dataframe is suitable for tabular form and columns\n",
    "df.head() "
   ]
  },
  {
   "cell_type": "code",
   "execution_count": 73,
   "metadata": {
    "collapsed": true
   },
   "outputs": [],
   "source": [
    "df.to_csv('FlipkartReviews.csv', index=False, encoding='utf-8')"
   ]
  },
  {
   "cell_type": "code",
   "execution_count": null,
   "metadata": {
    "collapsed": true
   },
   "outputs": [],
   "source": []
  }
 ],
 "metadata": {
  "kernelspec": {
   "display_name": "Python [conda root]",
   "language": "python",
   "name": "conda-root-py"
  },
  "language_info": {
   "codemirror_mode": {
    "name": "ipython",
    "version": 2
   },
   "file_extension": ".py",
   "mimetype": "text/x-python",
   "name": "python",
   "nbconvert_exporter": "python",
   "pygments_lexer": "ipython2",
   "version": "2.7.12"
  }
 },
 "nbformat": 4,
 "nbformat_minor": 1
}
